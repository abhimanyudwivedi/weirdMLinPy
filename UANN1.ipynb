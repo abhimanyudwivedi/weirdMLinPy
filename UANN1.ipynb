{
  "nbformat": 4,
  "nbformat_minor": 0,
  "metadata": {
    "colab": {
      "name": "UANN1.ipynb",
      "provenance": [],
      "collapsed_sections": []
    },
    "kernelspec": {
      "name": "python3",
      "display_name": "Python 3"
    }
  },
  "cells": [
    {
      "cell_type": "code",
      "metadata": {
        "id": "cOVMjC4RPd9N",
        "colab_type": "code",
        "colab": {}
      },
      "source": [
        "import pandas as pd\n",
        "import numpy as np\n",
        "import matplotlib.pyplot as plt"
      ],
      "execution_count": 0,
      "outputs": []
    },
    {
      "cell_type": "code",
      "metadata": {
        "id": "k_RuPVLxPvuM",
        "colab_type": "code",
        "colab": {}
      },
      "source": [
        "dataset = pd.read_csv('Churn_Modelling.csv')\n",
        "X = dataset.iloc[:, 3:13].values\n",
        "y = dataset.iloc[:, 13].values"
      ],
      "execution_count": 0,
      "outputs": []
    },
    {
      "cell_type": "code",
      "metadata": {
        "id": "qUScIR2PSGgv",
        "colab_type": "code",
        "colab": {}
      },
      "source": [
        "from sklearn.preprocessing import LabelEncoder\n",
        "le = LabelEncoder()\n",
        "X[:, 1] = le.fit_transform(X[:, 1])\n",
        "X[:, 2] = le.fit_transform(X[:, 2]) "
      ],
      "execution_count": 0,
      "outputs": []
    },
    {
      "cell_type": "code",
      "metadata": {
        "id": "lk4zMeVPVMlY",
        "colab_type": "code",
        "colab": {}
      },
      "source": [
        "# Encoding categorical data\n",
        "from sklearn.preprocessing import LabelEncoder, OneHotEncoder\n",
        "from sklearn.compose import ColumnTransformer\n",
        "labelencoder_X_1 = LabelEncoder()\n",
        "X[:, 1] = labelencoder_X_1.fit_transform(X[:, 1])\n",
        "labelencoder_X_2 = LabelEncoder()\n",
        "X[:, 2] = labelencoder_X_2.fit_transform(X[:, 2])\n",
        "ct = ColumnTransformer([(\"Country\", OneHotEncoder(), [1])], remainder = 'passthrough')\n",
        "X = ct.fit_transform(X)\n",
        "X = X[:, 1:]"
      ],
      "execution_count": 0,
      "outputs": []
    },
    {
      "cell_type": "code",
      "metadata": {
        "id": "8UG7-aPMQ0lS",
        "colab_type": "code",
        "colab": {}
      },
      "source": [
        "from sklearn.model_selection import train_test_split\n",
        "X_train, X_test, Y_train, Y_test = train_test_split(X, y, test_size =0.2, random_state = 0)"
      ],
      "execution_count": 0,
      "outputs": []
    },
    {
      "cell_type": "code",
      "metadata": {
        "id": "XsU7p26yRsOg",
        "colab_type": "code",
        "colab": {}
      },
      "source": [
        "from sklearn.preprocessing import StandardScaler\n",
        "sc = StandardScaler()\n",
        "X_train = sc.fit_transform(X_train)\n",
        "X_test = sc.transform(X_test)"
      ],
      "execution_count": 0,
      "outputs": []
    },
    {
      "cell_type": "code",
      "metadata": {
        "id": "kkMH0U7uU4Bz",
        "colab_type": "code",
        "colab": {}
      },
      "source": [
        "import keras\n",
        "from keras.models import Sequential\n",
        "from keras.layers import Dense"
      ],
      "execution_count": 0,
      "outputs": []
    },
    {
      "cell_type": "code",
      "metadata": {
        "id": "TXkz1SJ4WEiX",
        "colab_type": "code",
        "outputId": "134b0e84-bb95-4179-ba7e-11bb5bec346a",
        "colab": {
          "base_uri": "https://localhost:8080/",
          "height": 1000
        }
      },
      "source": [
        "classifier = Sequential()\n",
        "classifier.add(Dense(output_dim = 6, init = 'uniform', activation = 'relu', input_dim = 11))\n",
        "classifier.add(Dense(output_dim = 6, init = 'uniform', activation = 'relu'))\n",
        "classifier.add(Dense(output_dim = 1, init = 'uniform', activation='sigmoid'))\n",
        "classifier.compile(optimizer = 'adam', loss='binary_crossentropy', metrics = ['accuracy'])\n",
        "classifier.fit(X_train, Y_train, batch_size = 10, nb_epoch = 100)"
      ],
      "execution_count": 70,
      "outputs": [
        {
          "output_type": "stream",
          "text": [
            "/usr/local/lib/python3.6/dist-packages/ipykernel_launcher.py:2: UserWarning: Update your `Dense` call to the Keras 2 API: `Dense(activation=\"relu\", input_dim=11, units=6, kernel_initializer=\"uniform\")`\n",
            "  \n",
            "/usr/local/lib/python3.6/dist-packages/ipykernel_launcher.py:3: UserWarning: Update your `Dense` call to the Keras 2 API: `Dense(activation=\"relu\", units=6, kernel_initializer=\"uniform\")`\n",
            "  This is separate from the ipykernel package so we can avoid doing imports until\n",
            "/usr/local/lib/python3.6/dist-packages/ipykernel_launcher.py:4: UserWarning: Update your `Dense` call to the Keras 2 API: `Dense(activation=\"sigmoid\", units=1, kernel_initializer=\"uniform\")`\n",
            "  after removing the cwd from sys.path.\n",
            "/usr/local/lib/python3.6/dist-packages/ipykernel_launcher.py:6: UserWarning: The `nb_epoch` argument in `fit` has been renamed `epochs`.\n",
            "  \n"
          ],
          "name": "stderr"
        },
        {
          "output_type": "stream",
          "text": [
            "Epoch 1/100\n",
            "8000/8000 [==============================] - 1s 162us/step - loss: 0.4934 - acc: 0.7954\n",
            "Epoch 2/100\n",
            "8000/8000 [==============================] - 1s 117us/step - loss: 0.4290 - acc: 0.7960\n",
            "Epoch 3/100\n",
            "8000/8000 [==============================] - 1s 116us/step - loss: 0.4239 - acc: 0.7960\n",
            "Epoch 4/100\n",
            "8000/8000 [==============================] - 1s 118us/step - loss: 0.4198 - acc: 0.8107\n",
            "Epoch 5/100\n",
            "8000/8000 [==============================] - 1s 113us/step - loss: 0.4170 - acc: 0.8254\n",
            "Epoch 6/100\n",
            "8000/8000 [==============================] - 1s 116us/step - loss: 0.4147 - acc: 0.8291\n",
            "Epoch 7/100\n",
            "8000/8000 [==============================] - 1s 115us/step - loss: 0.4132 - acc: 0.8305\n",
            "Epoch 8/100\n",
            "8000/8000 [==============================] - 1s 117us/step - loss: 0.4117 - acc: 0.8302\n",
            "Epoch 9/100\n",
            "8000/8000 [==============================] - 1s 116us/step - loss: 0.4103 - acc: 0.8326\n",
            "Epoch 10/100\n",
            "8000/8000 [==============================] - 1s 116us/step - loss: 0.4099 - acc: 0.8344\n",
            "Epoch 11/100\n",
            "8000/8000 [==============================] - 1s 113us/step - loss: 0.4084 - acc: 0.8345\n",
            "Epoch 12/100\n",
            "8000/8000 [==============================] - 1s 116us/step - loss: 0.4082 - acc: 0.8332\n",
            "Epoch 13/100\n",
            "8000/8000 [==============================] - 1s 116us/step - loss: 0.4073 - acc: 0.8342\n",
            "Epoch 14/100\n",
            "8000/8000 [==============================] - 1s 114us/step - loss: 0.4071 - acc: 0.8341\n",
            "Epoch 15/100\n",
            "8000/8000 [==============================] - 1s 118us/step - loss: 0.4058 - acc: 0.8341\n",
            "Epoch 16/100\n",
            "8000/8000 [==============================] - 1s 113us/step - loss: 0.4059 - acc: 0.8344\n",
            "Epoch 17/100\n",
            "8000/8000 [==============================] - 1s 117us/step - loss: 0.4056 - acc: 0.8350\n",
            "Epoch 18/100\n",
            "8000/8000 [==============================] - 1s 116us/step - loss: 0.4053 - acc: 0.8359\n",
            "Epoch 19/100\n",
            "8000/8000 [==============================] - 1s 120us/step - loss: 0.4047 - acc: 0.8357\n",
            "Epoch 20/100\n",
            "8000/8000 [==============================] - 1s 117us/step - loss: 0.4047 - acc: 0.8362\n",
            "Epoch 21/100\n",
            "8000/8000 [==============================] - 1s 116us/step - loss: 0.4042 - acc: 0.8354\n",
            "Epoch 22/100\n",
            "8000/8000 [==============================] - 1s 116us/step - loss: 0.4038 - acc: 0.8346\n",
            "Epoch 23/100\n",
            "8000/8000 [==============================] - 1s 116us/step - loss: 0.4033 - acc: 0.8351\n",
            "Epoch 24/100\n",
            "8000/8000 [==============================] - 1s 116us/step - loss: 0.4037 - acc: 0.8340\n",
            "Epoch 25/100\n",
            "8000/8000 [==============================] - 1s 117us/step - loss: 0.4033 - acc: 0.8351\n",
            "Epoch 26/100\n",
            "8000/8000 [==============================] - 1s 115us/step - loss: 0.4027 - acc: 0.8346\n",
            "Epoch 27/100\n",
            "8000/8000 [==============================] - 1s 116us/step - loss: 0.4025 - acc: 0.8355\n",
            "Epoch 28/100\n",
            "8000/8000 [==============================] - 1s 117us/step - loss: 0.4031 - acc: 0.8359\n",
            "Epoch 29/100\n",
            "8000/8000 [==============================] - 1s 116us/step - loss: 0.4027 - acc: 0.8335\n",
            "Epoch 30/100\n",
            "8000/8000 [==============================] - 1s 116us/step - loss: 0.4029 - acc: 0.8361\n",
            "Epoch 31/100\n",
            "8000/8000 [==============================] - 1s 116us/step - loss: 0.4025 - acc: 0.8357\n",
            "Epoch 32/100\n",
            "8000/8000 [==============================] - 1s 119us/step - loss: 0.4025 - acc: 0.8347\n",
            "Epoch 33/100\n",
            "8000/8000 [==============================] - 1s 117us/step - loss: 0.4022 - acc: 0.8360\n",
            "Epoch 34/100\n",
            "8000/8000 [==============================] - 1s 117us/step - loss: 0.4018 - acc: 0.8337\n",
            "Epoch 35/100\n",
            "8000/8000 [==============================] - 1s 116us/step - loss: 0.4021 - acc: 0.8345\n",
            "Epoch 36/100\n",
            "8000/8000 [==============================] - 1s 118us/step - loss: 0.4020 - acc: 0.8357\n",
            "Epoch 37/100\n",
            "8000/8000 [==============================] - 1s 118us/step - loss: 0.4019 - acc: 0.8346\n",
            "Epoch 38/100\n",
            "8000/8000 [==============================] - 1s 116us/step - loss: 0.4021 - acc: 0.8350\n",
            "Epoch 39/100\n",
            "8000/8000 [==============================] - 1s 116us/step - loss: 0.4020 - acc: 0.8334\n",
            "Epoch 40/100\n",
            "8000/8000 [==============================] - 1s 118us/step - loss: 0.4013 - acc: 0.8349\n",
            "Epoch 41/100\n",
            "8000/8000 [==============================] - 1s 115us/step - loss: 0.4016 - acc: 0.8347\n",
            "Epoch 42/100\n",
            "8000/8000 [==============================] - 1s 117us/step - loss: 0.4017 - acc: 0.8347\n",
            "Epoch 43/100\n",
            "8000/8000 [==============================] - 1s 116us/step - loss: 0.4018 - acc: 0.8341\n",
            "Epoch 44/100\n",
            "8000/8000 [==============================] - 1s 117us/step - loss: 0.4010 - acc: 0.8347\n",
            "Epoch 45/100\n",
            "8000/8000 [==============================] - 1s 117us/step - loss: 0.4013 - acc: 0.8347\n",
            "Epoch 46/100\n",
            "8000/8000 [==============================] - 1s 116us/step - loss: 0.4019 - acc: 0.8362\n",
            "Epoch 47/100\n",
            "8000/8000 [==============================] - 1s 116us/step - loss: 0.4017 - acc: 0.8359\n",
            "Epoch 48/100\n",
            "8000/8000 [==============================] - 1s 117us/step - loss: 0.4013 - acc: 0.8335\n",
            "Epoch 49/100\n",
            "8000/8000 [==============================] - 1s 129us/step - loss: 0.4011 - acc: 0.8356\n",
            "Epoch 50/100\n",
            "8000/8000 [==============================] - 1s 130us/step - loss: 0.4010 - acc: 0.8357\n",
            "Epoch 51/100\n",
            "8000/8000 [==============================] - 1s 129us/step - loss: 0.4012 - acc: 0.8344\n",
            "Epoch 52/100\n",
            "8000/8000 [==============================] - 1s 129us/step - loss: 0.4009 - acc: 0.8351\n",
            "Epoch 53/100\n",
            "8000/8000 [==============================] - 1s 131us/step - loss: 0.4008 - acc: 0.8366\n",
            "Epoch 54/100\n",
            "8000/8000 [==============================] - 1s 126us/step - loss: 0.4009 - acc: 0.8350\n",
            "Epoch 55/100\n",
            "8000/8000 [==============================] - 1s 131us/step - loss: 0.4009 - acc: 0.8342\n",
            "Epoch 56/100\n",
            "8000/8000 [==============================] - 1s 132us/step - loss: 0.4008 - acc: 0.8347\n",
            "Epoch 57/100\n",
            "8000/8000 [==============================] - 1s 129us/step - loss: 0.4007 - acc: 0.8359\n",
            "Epoch 58/100\n",
            "8000/8000 [==============================] - 1s 126us/step - loss: 0.4003 - acc: 0.8351\n",
            "Epoch 59/100\n",
            "8000/8000 [==============================] - 1s 116us/step - loss: 0.4005 - acc: 0.8357\n",
            "Epoch 60/100\n",
            "8000/8000 [==============================] - 1s 115us/step - loss: 0.4005 - acc: 0.8352\n",
            "Epoch 61/100\n",
            "8000/8000 [==============================] - 1s 116us/step - loss: 0.4007 - acc: 0.8339\n",
            "Epoch 62/100\n",
            "8000/8000 [==============================] - 1s 117us/step - loss: 0.4006 - acc: 0.8344\n",
            "Epoch 63/100\n",
            "8000/8000 [==============================] - 1s 118us/step - loss: 0.4005 - acc: 0.8341\n",
            "Epoch 64/100\n",
            "8000/8000 [==============================] - 1s 119us/step - loss: 0.4004 - acc: 0.8349\n",
            "Epoch 65/100\n",
            "8000/8000 [==============================] - 1s 116us/step - loss: 0.4004 - acc: 0.8360\n",
            "Epoch 66/100\n",
            "8000/8000 [==============================] - 1s 117us/step - loss: 0.4006 - acc: 0.8351\n",
            "Epoch 67/100\n",
            "8000/8000 [==============================] - 1s 114us/step - loss: 0.4006 - acc: 0.8339\n",
            "Epoch 68/100\n",
            "8000/8000 [==============================] - 1s 118us/step - loss: 0.4006 - acc: 0.8365\n",
            "Epoch 69/100\n",
            "8000/8000 [==============================] - 1s 119us/step - loss: 0.4004 - acc: 0.8351\n",
            "Epoch 70/100\n",
            "8000/8000 [==============================] - 1s 116us/step - loss: 0.4003 - acc: 0.8361\n",
            "Epoch 71/100\n",
            "8000/8000 [==============================] - 1s 117us/step - loss: 0.4002 - acc: 0.8347\n",
            "Epoch 72/100\n",
            "8000/8000 [==============================] - 1s 113us/step - loss: 0.4004 - acc: 0.8341\n",
            "Epoch 73/100\n",
            "8000/8000 [==============================] - 1s 119us/step - loss: 0.4002 - acc: 0.8351\n",
            "Epoch 74/100\n",
            "8000/8000 [==============================] - 1s 114us/step - loss: 0.4004 - acc: 0.8355\n",
            "Epoch 75/100\n",
            "8000/8000 [==============================] - 1s 118us/step - loss: 0.4003 - acc: 0.8360\n",
            "Epoch 76/100\n",
            "8000/8000 [==============================] - 1s 115us/step - loss: 0.4000 - acc: 0.8344\n",
            "Epoch 77/100\n",
            "8000/8000 [==============================] - 1s 117us/step - loss: 0.4006 - acc: 0.8352\n",
            "Epoch 78/100\n",
            "8000/8000 [==============================] - 1s 116us/step - loss: 0.4001 - acc: 0.8354\n",
            "Epoch 79/100\n",
            "8000/8000 [==============================] - 1s 114us/step - loss: 0.3997 - acc: 0.8369\n",
            "Epoch 80/100\n",
            "8000/8000 [==============================] - 1s 122us/step - loss: 0.4004 - acc: 0.8350\n",
            "Epoch 81/100\n",
            "8000/8000 [==============================] - 1s 118us/step - loss: 0.4003 - acc: 0.8356\n",
            "Epoch 82/100\n",
            "8000/8000 [==============================] - 1s 118us/step - loss: 0.3999 - acc: 0.8347\n",
            "Epoch 83/100\n",
            "8000/8000 [==============================] - 1s 116us/step - loss: 0.4003 - acc: 0.8361\n",
            "Epoch 84/100\n",
            "8000/8000 [==============================] - 1s 118us/step - loss: 0.4004 - acc: 0.8346\n",
            "Epoch 85/100\n",
            "8000/8000 [==============================] - 1s 116us/step - loss: 0.4001 - acc: 0.8352\n",
            "Epoch 86/100\n",
            "8000/8000 [==============================] - 1s 115us/step - loss: 0.4001 - acc: 0.8351\n",
            "Epoch 87/100\n",
            "8000/8000 [==============================] - 1s 118us/step - loss: 0.3997 - acc: 0.8340\n",
            "Epoch 88/100\n",
            "8000/8000 [==============================] - 1s 118us/step - loss: 0.4006 - acc: 0.8346\n",
            "Epoch 89/100\n",
            "8000/8000 [==============================] - 1s 116us/step - loss: 0.4002 - acc: 0.8347\n",
            "Epoch 90/100\n",
            "8000/8000 [==============================] - 1s 117us/step - loss: 0.4000 - acc: 0.8351\n",
            "Epoch 91/100\n",
            "8000/8000 [==============================] - 1s 116us/step - loss: 0.3999 - acc: 0.8361\n",
            "Epoch 92/100\n",
            "8000/8000 [==============================] - 1s 117us/step - loss: 0.4000 - acc: 0.8342\n",
            "Epoch 93/100\n",
            "8000/8000 [==============================] - 1s 116us/step - loss: 0.4001 - acc: 0.8357\n",
            "Epoch 94/100\n",
            "8000/8000 [==============================] - 1s 117us/step - loss: 0.3997 - acc: 0.8354\n",
            "Epoch 95/100\n",
            "8000/8000 [==============================] - 1s 118us/step - loss: 0.4004 - acc: 0.8342\n",
            "Epoch 96/100\n",
            "8000/8000 [==============================] - 1s 118us/step - loss: 0.4001 - acc: 0.8342\n",
            "Epoch 97/100\n",
            "8000/8000 [==============================] - 1s 117us/step - loss: 0.3996 - acc: 0.8359\n",
            "Epoch 98/100\n",
            "8000/8000 [==============================] - 1s 117us/step - loss: 0.4001 - acc: 0.8350\n",
            "Epoch 99/100\n",
            "8000/8000 [==============================] - 1s 118us/step - loss: 0.4004 - acc: 0.8341\n",
            "Epoch 100/100\n",
            "8000/8000 [==============================] - 1s 118us/step - loss: 0.3999 - acc: 0.8350\n"
          ],
          "name": "stdout"
        },
        {
          "output_type": "execute_result",
          "data": {
            "text/plain": [
              "<keras.callbacks.History at 0x7f4a082cb748>"
            ]
          },
          "metadata": {
            "tags": []
          },
          "execution_count": 70
        }
      ]
    },
    {
      "cell_type": "code",
      "metadata": {
        "id": "FQmmZOMiZUGB",
        "colab_type": "code",
        "colab": {}
      },
      "source": [
        "y_pred = classifier.predict(X_test)\n",
        "y_pred = (y_pred > 0.5)"
      ],
      "execution_count": 0,
      "outputs": []
    },
    {
      "cell_type": "code",
      "metadata": {
        "id": "ctqChJKjZ40B",
        "colab_type": "code",
        "colab": {}
      },
      "source": [
        "y_pred = list(map(int, y_pred))"
      ],
      "execution_count": 0,
      "outputs": []
    },
    {
      "cell_type": "code",
      "metadata": {
        "id": "-DuS5yF8aCmJ",
        "colab_type": "code",
        "colab": {
          "base_uri": "https://localhost:8080/",
          "height": 52
        },
        "outputId": "e32665ab-6045-446d-e3f7-f6381e60de48"
      },
      "source": [
        "from sklearn.metrics import confusion_matrix\n",
        "cm = confusion_matrix(Y_test, y_pred)\n",
        "cm"
      ],
      "execution_count": 73,
      "outputs": [
        {
          "output_type": "execute_result",
          "data": {
            "text/plain": [
              "array([[1546,   49],\n",
              "       [ 265,  140]])"
            ]
          },
          "metadata": {
            "tags": []
          },
          "execution_count": 73
        }
      ]
    },
    {
      "cell_type": "code",
      "metadata": {
        "id": "AUbl0GkhcnJ-",
        "colab_type": "code",
        "colab": {
          "base_uri": "https://localhost:8080/",
          "height": 35
        },
        "outputId": "2e71a961-81ef-4e03-f40b-51125cc20865"
      },
      "source": [
        "accuracy = (1546+140)/(1546+140+265+49)\n",
        "print(accuracy)"
      ],
      "execution_count": 75,
      "outputs": [
        {
          "output_type": "stream",
          "text": [
            "0.843\n"
          ],
          "name": "stdout"
        }
      ]
    },
    {
      "cell_type": "code",
      "metadata": {
        "id": "lshzJtx_cuzo",
        "colab_type": "code",
        "colab": {
          "base_uri": "https://localhost:8080/",
          "height": 69
        },
        "outputId": "a3b13fec-180d-4dc5-8d0a-7b9adc48c56f"
      },
      "source": [
        "precision = 140/(140 + 265)\n",
        "print(precision)\n",
        "recall = 140/(140 + 49)\n",
        "print(recall)\n",
        "F1_score = 2*(precision*recall)/(precision+recall)\n",
        "print(F1_score)"
      ],
      "execution_count": 76,
      "outputs": [
        {
          "output_type": "stream",
          "text": [
            "0.345679012345679\n",
            "0.7407407407407407\n",
            "0.4713804713804714\n"
          ],
          "name": "stdout"
        }
      ]
    }
  ]
}